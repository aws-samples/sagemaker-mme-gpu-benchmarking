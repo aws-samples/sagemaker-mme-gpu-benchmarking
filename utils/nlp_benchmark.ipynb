{
 "cells": [
  {
   "cell_type": "markdown",
   "id": "5c5a31fc",
   "metadata": {
    "tags": []
   },
   "source": [
    "# Benchmark Natural Language (NLP) models using Amazon SageMaker Multi-model endpoints (MME) with GPU support\n",
    "\n",
    "Amazon SageMaker multi-model endpoints with GPU works using NVIDIA Triton Inference Server. NVIDIA Triton Inference Server is open-source inference serving software that simplifies the inference serving process and provides high inference performance. Triton supports all major training and inference frameworks, such as TensorFlow, NVIDIA TensorRT, PyTorch, MXNet, Python, ONNX, XGBoost, scikit-learn, RandomForest, OpenVINO, custom C++, and more. It offers dynamic batching, concurrent execution, post-training quantization, optimal model configuration to achieve high performance inference.\n",
    "\n",
    "In this notebook, we are going to run benchmark testing for the most popluar NLP models using MME on GPU. We will evaluate model performance such as the inference latency, throughput, and optimum model count per instance. We will also compile these models using NVIDA TensorRT to compare performance against TorchScript models.\n",
    "\n",
    "This notebook is tested on `PyTorch 1.12 Python 3.8 CPU Optimized` kernel on SageMaker Studio. An instance with at least 8 vCPU cores such as an `ml.c5.2xlarge` is recommended to run the load test. A smaller instance may be utilized by reducing the scale of the load test. The configuration provide here simulates up to 200 concurrent workers\n",
    "\n",
    "**Here is a list of model we have tested, you can use this notebook to benchmark your own models:**\n",
    "\n",
    "| Model Name      | Number of Parameters |\n",
    "| -----------     | -------------------- | \n",
    "| bert-base-uncased        | 109M                  |\n",
    "| roberta-large   | 88M                  |"
   ]
  },
  {
   "cell_type": "markdown",
   "id": "3b237a7c",
   "metadata": {},
   "source": [
    "## Set up the environment\n",
    "\n",
    "Installs the dependencies required to package the model and run inferences using Triton server.\n",
    "\n",
    "Also define the IAM role that will give SageMaker access to the model artifacts and the NVIDIA Triton ECR image."
   ]
  },
  {
   "cell_type": "code",
   "execution_count": 2,
   "id": "2b1552a9",
   "metadata": {
    "tags": []
   },
   "outputs": [
    {
     "name": "stdout",
     "output_type": "stream",
     "text": [
      "Note: you may need to restart the kernel to use updated packages.\n",
      "Note: you may need to restart the kernel to use updated packages.\n",
      "Note: you may need to restart the kernel to use updated packages.\n",
      "Note: you may need to restart the kernel to use updated packages.\n",
      "Note: you may need to restart the kernel to use updated packages.\n",
      "Note: you may need to restart the kernel to use updated packages.\n"
     ]
    }
   ],
   "source": [
    "%pip install timm -Uqq\n",
    "%pip install transformers -Uqq\n",
    "%pip install locust -Uqq\n",
    "%pip install boto3 -Uqq\n",
    "%pip install sagemaker -Uqq\n",
    "%pip install matplotlib -Uqq\n",
    "%pip install Jinja2 -Uqq"
   ]
  },
  {
   "cell_type": "code",
   "execution_count": 4,
   "id": "4fc27e19-c615-4102-99b3-eb4f13b64483",
   "metadata": {},
   "outputs": [
    {
     "name": "stdout",
     "output_type": "stream",
     "text": [
      "The autoreload extension is already loaded. To reload it, use:\n",
      "  %reload_ext autoreload\n"
     ]
    }
   ],
   "source": [
    "%load_ext autoreload\n",
    "%autoreload 2"
   ]
  },
  {
   "cell_type": "code",
   "execution_count": 7,
   "id": "dc8b4725",
   "metadata": {
    "tags": []
   },
   "outputs": [],
   "source": [
    "import sagemaker\n",
    "from sagemaker import get_execution_role\n",
    "import torch\n",
    "from pathlib import Path\n",
    "\n",
    "import boto3\n",
    "import json\n",
    "from pathlib import Path\n",
    "import time\n",
    "import datetime as dt\n",
    "import warnings\n",
    "\n",
    "from utils import model_utils\n",
    "\n",
    "role = get_execution_role()\n",
    "sess = sagemaker.Session()\n",
    "\n",
    "account = sess.account_id()\n",
    "bucket = sess.default_bucket() # or use your own custom bucket name\n",
    "prefix = 'mme-cv-benchmark'\n",
    "\n",
    "use_case = \"nlp\"\n",
    "\n",
    "sm_client = boto3.client(service_name=\"sagemaker\")\n",
    "runtime_sm_client = boto3.client(\"sagemaker-runtime\")\n",
    "\n",
    "tested_models = [\"bert-base-uncased\", \"roberta-large\"]\n",
    "\n",
    "model_name = \"bert-base-uncased\" #change the model name to benchmark different NLP models\n",
    "\n",
    "max_seq_len = 128"
   ]
  },
  {
   "cell_type": "markdown",
   "id": "0d5503b2",
   "metadata": {},
   "source": [
    "Account Id Mapping for triton inference containers"
   ]
  },
  {
   "cell_type": "code",
   "execution_count": 8,
   "id": "1041ca81",
   "metadata": {
    "tags": []
   },
   "outputs": [],
   "source": [
    "account_id_map = {\n",
    "    'us-east-1': '785573368785',\n",
    "    'us-east-2': '007439368137',\n",
    "    'us-west-1': '710691900526',\n",
    "    'us-west-2': '301217895009',\n",
    "    'eu-west-1': '802834080501',\n",
    "    'eu-west-2': '205493899709',\n",
    "    'eu-west-3': '254080097072',\n",
    "    'eu-north-1': '601324751636',\n",
    "    'eu-south-1': '966458181534',\n",
    "    'eu-central-1': '746233611703',\n",
    "    'ap-east-1': '110948597952',\n",
    "    'ap-south-1': '763008648453',\n",
    "    'ap-northeast-1': '941853720454',\n",
    "    'ap-northeast-2': '151534178276',\n",
    "    'ap-southeast-1': '324986816169',\n",
    "    'ap-southeast-2': '355873309152',\n",
    "    'cn-northwest-1': '474822919863',\n",
    "    'cn-north-1': '472730292857',\n",
    "    'sa-east-1': '756306329178',\n",
    "    'ca-central-1': '464438896020',\n",
    "    'me-south-1': '836785723513',\n",
    "    'af-south-1': '774647643957'\n",
    "}"
   ]
  },
  {
   "cell_type": "code",
   "execution_count": 9,
   "id": "5abb439f",
   "metadata": {
    "tags": []
   },
   "outputs": [],
   "source": [
    "region = boto3.Session().region_name\n",
    "if region not in account_id_map.keys():\n",
    "    raise(\"UNSUPPORTED REGION\")"
   ]
  },
  {
   "cell_type": "markdown",
   "id": "226d4db3",
   "metadata": {},
   "source": [
    "## Generate Pretrained Models"
   ]
  },
  {
   "cell_type": "markdown",
   "id": "17fed9ec",
   "metadata": {},
   "source": [
    "We are going to use the following SageMaker Processing script to generate our pretrained model. This script does the following:\n",
    "\n",
    "1. Generate a model using the Pytorch Hub\n",
    "\n",
    "2. jit script the model and save the torchscript file\n",
    "\n",
    "3. Create a model artifact which is comprised of the torchscript file and a model configuration (config.pbtxt) for Triton serving\n",
    "\n",
    "Helper functions have been created for each of these steps and are imported from the `utils.model_utils` local module"
   ]
  },
  {
   "cell_type": "code",
   "execution_count": 13,
   "id": "eacff9b3-d788-4136-9a48-a3e23c07a7cd",
   "metadata": {
    "tags": []
   },
   "outputs": [
    {
     "data": {
      "text/plain": [
       "PreTrainedTokenizerFast(name_or_path='bert-base-uncased', vocab_size=30522, model_max_len=512, is_fast=True, padding_side='right', truncation_side='right', special_tokens={'unk_token': '[UNK]', 'sep_token': '[SEP]', 'pad_token': '[PAD]', 'cls_token': '[CLS]', 'mask_token': '[MASK]'})"
      ]
     },
     "execution_count": 13,
     "metadata": {},
     "output_type": "execute_result"
    }
   ],
   "source": [
    "model."
   ]
  },
  {
   "cell_type": "code",
   "execution_count": 17,
   "id": "87f0bad5",
   "metadata": {
    "tags": []
   },
   "outputs": [
    {
     "name": "stderr",
     "output_type": "stream",
     "text": [
      "Some weights of the model checkpoint at bert-base-uncased were not used when initializing BertModel: ['cls.predictions.transform.LayerNorm.bias', 'cls.seq_relationship.bias', 'cls.predictions.transform.dense.weight', 'cls.predictions.transform.dense.bias', 'cls.predictions.decoder.weight', 'cls.predictions.bias', 'cls.predictions.transform.LayerNorm.weight', 'cls.seq_relationship.weight']\n",
      "- This IS expected if you are initializing BertModel from the checkpoint of a model trained on another task or with another architecture (e.g. initializing a BertForSequenceClassification model from a BertForPreTraining model).\n",
      "- This IS NOT expected if you are initializing BertModel from the checkpoint of a model that you expect to be exactly identical (initializing a BertForSequenceClassification model from a BertForSequenceClassification model).\n"
     ]
    },
    {
     "name": "stdout",
     "output_type": "stream",
     "text": [
      "loaded model bert-base-uncased with 109482240 parameters\n"
     ]
    }
   ],
   "source": [
    "if model_name in tested_models:\n",
    "    tokenizer, model = model_utils.get_model_from_hf_hub(model_name)\n",
    "else:\n",
    "    warnings.warn(f\"{model_name} has not been tested and may not work\")\n",
    "    tokenizer, model = model_utils.get_model_from_hf_hub(model_name)\n",
    "model.eval()\n",
    "\n",
    "print(f\"loaded model {model_name} with {model_utils.count_parameters(model)} parameters\")\n",
    "\n",
    "example_input = tokenizer(\"This is a sample\", padding=\"max_length\", max_length=max_seq_len, return_tensors=\"pt\")"
   ]
  },
  {
   "cell_type": "markdown",
   "id": "2976213f",
   "metadata": {
    "tags": []
   },
   "source": [
    "## Packaging Pytorch model for Triton sever on SageMaker\n",
    "\n",
    "**Note**: SageMaker expects the model tarball file to have a top level directory with the same name as the model defined in the `config.pbtxt`.\n",
    "\n",
    "```\n",
    "model_name\n",
    "├── 1\n",
    "│   └── model.pt\n",
    "└── config.pbtxt\n",
    "```"
   ]
  },
  {
   "cell_type": "code",
   "execution_count": 19,
   "id": "23b6fba1",
   "metadata": {
    "tags": []
   },
   "outputs": [],
   "source": [
    "pytorch_model_path = Path(f\"triton-serve-pt/{model_name}/1\")\n",
    "pytorch_model_path.mkdir(parents=True, exist_ok=True)\n",
    "pt_model_path = model_utils.export_pt_jit(model, list(example_input.values()), pytorch_model_path) #export jit compiled model to specified directory"
   ]
  },
  {
   "cell_type": "markdown",
   "id": "2e8dae48",
   "metadata": {},
   "source": [
    "<div class=\"alert alert-info\"> <strong> Note: </strong>\n",
    "Based on the architecture of the model we will generate a Triton configuration (config.pbtxt) file. This approach should work for most models but you may need to make adjustments to the generated config. Additionally a base model is assumed that will return the output from the last hidden state. If using a different output head such as a sequence classification, adjust the triton_outputs variable below.\n",
    "</div>"
   ]
  },
  {
   "cell_type": "code",
   "execution_count": 21,
   "id": "c1eff00a-c60e-4165-9b63-91a2cda829c2",
   "metadata": {
    "tags": []
   },
   "outputs": [],
   "source": [
    "#get input names \n",
    "triton_inputs = [\n",
    "    {\"name\": input_name, \"data_type\": \"TYPE_INT32\", \"dims\": f\"[{max_seq_len}]\"}\n",
    "    for input_name in example_input\n",
    "]\n",
    "triton_outputs = [\n",
    "    {\n",
    "        \"name\": \"last_hidden_state\",\n",
    "        \"data_type\": \"TYPE_FP32\",\n",
    "        \"dims\": f\"[{max_seq_len}, {model.config.hidden_size}]\",\n",
    "    }\n",
    "]"
   ]
  },
  {
   "cell_type": "code",
   "execution_count": 25,
   "id": "bec8066a-b2a2-451c-914f-d7740d789623",
   "metadata": {
    "tags": []
   },
   "outputs": [],
   "source": [
    "triton_config_path = model_utils.generate_triton_config(platform=\"pt\", triton_inputs=triton_inputs,  triton_outputs=triton_outputs, save_path=pytorch_model_path)"
   ]
  },
  {
   "cell_type": "code",
   "execution_count": 27,
   "id": "81e9f4f0",
   "metadata": {
    "tags": []
   },
   "outputs": [],
   "source": [
    "# We'll package a model config template along with the compiled model into a model.tar.gz artifact. \n",
    "# The config templates assume batch size of 32 and sequence length of 128\n",
    "# You may need to adjust the template if not using one of the tested models\n",
    "model_atifact_path = model_utils.package_triton_model(model_name, pt_model_path, triton_config_path)"
   ]
  },
  {
   "cell_type": "code",
   "execution_count": 55,
   "id": "bf85a69c",
   "metadata": {
    "tags": []
   },
   "outputs": [],
   "source": [
    "mme_path = f\"s3://{bucket}/{prefix}/{model_name}/\"\n",
    "initial_model_path = sess.upload_data(model_atifact_path.as_posix(), bucket=bucket, key_prefix=f\"{prefix}{model_name}\")"
   ]
  },
  {
   "cell_type": "markdown",
   "id": "a859b150",
   "metadata": {},
   "source": [
    "## Create a SageMaker Multi-Model Endpoint for PyTorch Model"
   ]
  },
  {
   "cell_type": "code",
   "execution_count": 56,
   "id": "f7b99513",
   "metadata": {
    "tags": []
   },
   "outputs": [
    {
     "name": "stdout",
     "output_type": "stream",
     "text": [
      "785573368785.dkr.ecr.us-east-1.amazonaws.com/sagemaker-tritonserver:22.10-py3\n"
     ]
    }
   ],
   "source": [
    "from utils.endpoint_utils import create_endpoint, delete_endpoint, get_instance_utilization, run_load_test\n",
    "\n",
    "base = \"amazonaws.com.cn\" if region.startswith(\"cn-\") else \"amazonaws.com\"\n",
    "mme_triton_image_uri = f\"{account_id_map[region]}.dkr.ecr.{region}.{base}\" + \\\n",
    "            \"/sagemaker-tritonserver:22.10-py3\"\n",
    "print(mme_triton_image_uri)\n",
    "instance_type = 'ml.g4dn.2xlarge'"
   ]
  },
  {
   "cell_type": "code",
   "execution_count": 57,
   "id": "9248712a",
   "metadata": {
    "tags": []
   },
   "outputs": [],
   "source": [
    "container = {\n",
    "    \"Image\": mme_triton_image_uri,\n",
    "    \"ModelDataUrl\": mme_path,\n",
    "    \"Mode\": \"MultiModel\"\n",
    "}"
   ]
  },
  {
   "cell_type": "markdown",
   "id": "4875fa1e",
   "metadata": {},
   "source": [
    "We'll deploy and endpoint is deployed using a helper function"
   ]
  },
  {
   "cell_type": "code",
   "execution_count": 58,
   "id": "ffb3dbc5",
   "metadata": {
    "tags": []
   },
   "outputs": [
    {
     "name": "stdout",
     "output_type": "stream",
     "text": [
      "Model Arn: arn:aws:sagemaker:us-east-1:152804913371:model/bert-base-uncased-pt-gpu-2022-12-23-20-39-28\n",
      "Endpoint Config Arn: arn:aws:sagemaker:us-east-1:152804913371:endpoint-config/bert-base-uncased-pt-gpu-2022-12-23-20-39-28\n",
      "Endpoint Arn: arn:aws:sagemaker:us-east-1:152804913371:endpoint/bert-base-uncased-pt-gpu-2022-12-23-20-39-28\n",
      "Status: Creating\n",
      "Status: Creating\n",
      "Status: Creating\n",
      "Status: Creating\n",
      "Status: Creating\n",
      "Status: InService\n",
      "Arn: arn:aws:sagemaker:us-east-1:152804913371:endpoint/bert-base-uncased-pt-gpu-2022-12-23-20-39-28\n",
      "Status: InService\n"
     ]
    }
   ],
   "source": [
    "sm_model_name, endpoint_config_name, endpoint_name = create_endpoint(sm_client, model_name, role, container, instance_type, \"pt\")"
   ]
  },
  {
   "cell_type": "markdown",
   "id": "36ccd9b7",
   "metadata": {},
   "source": [
    "Next we'll upload a python model that we can use to query the instance utilization in real time"
   ]
  },
  {
   "cell_type": "code",
   "execution_count": 61,
   "id": "291029f2",
   "metadata": {
    "tags": []
   },
   "outputs": [
    {
     "name": "stdout",
     "output_type": "stream",
     "text": [
      "server_metrics/\n",
      "server_metrics/config.pbtxt\n",
      "server_metrics/1/\n",
      "server_metrics/1/model.py\n",
      "server_metrics/1/__pycache__/\n",
      "upload: ./metrics.tar.gz to s3://sagemaker-us-east-1-152804913371/mme-cv-benchmark/bert-base-uncased/metrics.tar.gz\n"
     ]
    }
   ],
   "source": [
    "!tar czvf metrics.tar.gz server_metrics/\n",
    "!aws s3 cp metrics.tar.gz {mme_path}"
   ]
  },
  {
   "cell_type": "code",
   "execution_count": 62,
   "id": "1eb93dab",
   "metadata": {
    "tags": []
   },
   "outputs": [
    {
     "data": {
      "text/plain": [
       "{'gpu_utilization': 0.0,\n",
       " 'gpu_memory_utilization': 0.010920643325170428,\n",
       " 'gpu_total_memory': 15109.0,\n",
       " 'gpu_free_memory': 14944.0,\n",
       " 'gpu_used_memory': 165.0,\n",
       " 'cpu_utilization': 0.0,\n",
       " 'memory_utilization': 0.03999999910593033}"
      ]
     },
     "execution_count": 62,
     "metadata": {},
     "output_type": "execute_result"
    }
   ],
   "source": [
    "get_instance_utilization(runtime_sm_client, endpoint_name) #invoke once to load the python model in memory"
   ]
  },
  {
   "cell_type": "markdown",
   "id": "d6999a89",
   "metadata": {},
   "source": [
    "## Load PyTorch Models into Endpoint"
   ]
  },
  {
   "cell_type": "markdown",
   "id": "cafa7826",
   "metadata": {},
   "source": [
    "In this section we will determine the maximum number of model copies that the endpoint can load into memory within a specified threshold\n",
    "- When a model is invoked for the first time, SageMaker will load it into the GPU Memory\n",
    "- In this section we will invoke the model with a sample endpoint which result in it being loaded into memory\n",
    "- We'll then make copies of the model on S3 and invoke each copy until we reach the specified GPU Memory threshold which we set at 90% of Available memory "
   ]
  },
  {
   "cell_type": "code",
   "execution_count": 63,
   "id": "e23c24fd-5c57-4c62-853d-fc7f28a3c1b3",
   "metadata": {
    "tags": []
   },
   "outputs": [],
   "source": [
    "payload = {\n",
    "    \"inputs\":\n",
    "        [{\"name\": name, \"shape\": list(data.size()), \"datatype\": \"INT32\", \"data\": data.tolist()} for name, data in example_input.items()]\n",
    "}"
   ]
  },
  {
   "cell_type": "code",
   "execution_count": 64,
   "id": "ffa65813",
   "metadata": {
    "tags": []
   },
   "outputs": [
    {
     "name": "stdout",
     "output_type": "stream",
     "text": [
      "copy: s3://sagemaker-us-east-1-152804913371/mme-cv-benchmarkbert-base-uncased/bert-base-uncased.tar.gz to s3://sagemaker-us-east-1-152804913371/mme-cv-benchmark/bert-base-uncased/bert-base-uncased-v0.tar.gz\n",
      "loaded 1 models with memory utilzation of 7.91%\n",
      "copy: s3://sagemaker-us-east-1-152804913371/mme-cv-benchmarkbert-base-uncased/bert-base-uncased.tar.gz to s3://sagemaker-us-east-1-152804913371/mme-cv-benchmark/bert-base-uncased/bert-base-uncased-v1.tar.gz\n",
      "loaded 2 models with memory utilzation of 11.10%\n",
      "copy: s3://sagemaker-us-east-1-152804913371/mme-cv-benchmarkbert-base-uncased/bert-base-uncased.tar.gz to s3://sagemaker-us-east-1-152804913371/mme-cv-benchmark/bert-base-uncased/bert-base-uncased-v2.tar.gz\n",
      "loaded 3 models with memory utilzation of 14.29%\n",
      "copy: s3://sagemaker-us-east-1-152804913371/mme-cv-benchmarkbert-base-uncased/bert-base-uncased.tar.gz to s3://sagemaker-us-east-1-152804913371/mme-cv-benchmark/bert-base-uncased/bert-base-uncased-v3.tar.gz\n",
      "loaded 4 models with memory utilzation of 17.48%\n",
      "copy: s3://sagemaker-us-east-1-152804913371/mme-cv-benchmarkbert-base-uncased/bert-base-uncased.tar.gz to s3://sagemaker-us-east-1-152804913371/mme-cv-benchmark/bert-base-uncased/bert-base-uncased-v4.tar.gz\n",
      "loaded 5 models with memory utilzation of 20.68%\n",
      "copy: s3://sagemaker-us-east-1-152804913371/mme-cv-benchmarkbert-base-uncased/bert-base-uncased.tar.gz to s3://sagemaker-us-east-1-152804913371/mme-cv-benchmark/bert-base-uncased/bert-base-uncased-v5.tar.gz\n",
      "loaded 6 models with memory utilzation of 23.87%\n",
      "copy: s3://sagemaker-us-east-1-152804913371/mme-cv-benchmarkbert-base-uncased/bert-base-uncased.tar.gz to s3://sagemaker-us-east-1-152804913371/mme-cv-benchmark/bert-base-uncased/bert-base-uncased-v6.tar.gz\n",
      "loaded 7 models with memory utilzation of 27.06%\n",
      "copy: s3://sagemaker-us-east-1-152804913371/mme-cv-benchmarkbert-base-uncased/bert-base-uncased.tar.gz to s3://sagemaker-us-east-1-152804913371/mme-cv-benchmark/bert-base-uncased/bert-base-uncased-v7.tar.gz\n",
      "loaded 8 models with memory utilzation of 30.25%\n",
      "copy: s3://sagemaker-us-east-1-152804913371/mme-cv-benchmarkbert-base-uncased/bert-base-uncased.tar.gz to s3://sagemaker-us-east-1-152804913371/mme-cv-benchmark/bert-base-uncased/bert-base-uncased-v8.tar.gz\n",
      "loaded 9 models with memory utilzation of 33.59%\n",
      "copy: s3://sagemaker-us-east-1-152804913371/mme-cv-benchmarkbert-base-uncased/bert-base-uncased.tar.gz to s3://sagemaker-us-east-1-152804913371/mme-cv-benchmark/bert-base-uncased/bert-base-uncased-v9.tar.gz\n",
      "loaded 10 models with memory utilzation of 36.79%\n",
      "copy: s3://sagemaker-us-east-1-152804913371/mme-cv-benchmarkbert-base-uncased/bert-base-uncased.tar.gz to s3://sagemaker-us-east-1-152804913371/mme-cv-benchmark/bert-base-uncased/bert-base-uncased-v10.tar.gz\n",
      "loaded 11 models with memory utilzation of 39.98%\n",
      "copy: s3://sagemaker-us-east-1-152804913371/mme-cv-benchmarkbert-base-uncased/bert-base-uncased.tar.gz to s3://sagemaker-us-east-1-152804913371/mme-cv-benchmark/bert-base-uncased/bert-base-uncased-v11.tar.gz\n",
      "loaded 12 models with memory utilzation of 43.17%\n",
      "copy: s3://sagemaker-us-east-1-152804913371/mme-cv-benchmarkbert-base-uncased/bert-base-uncased.tar.gz to s3://sagemaker-us-east-1-152804913371/mme-cv-benchmark/bert-base-uncased/bert-base-uncased-v12.tar.gz\n",
      "loaded 13 models with memory utilzation of 46.38%\n",
      "copy: s3://sagemaker-us-east-1-152804913371/mme-cv-benchmarkbert-base-uncased/bert-base-uncased.tar.gz to s3://sagemaker-us-east-1-152804913371/mme-cv-benchmark/bert-base-uncased/bert-base-uncased-v13.tar.gz\n",
      "loaded 14 models with memory utilzation of 49.57%\n",
      "copy: s3://sagemaker-us-east-1-152804913371/mme-cv-benchmarkbert-base-uncased/bert-base-uncased.tar.gz to s3://sagemaker-us-east-1-152804913371/mme-cv-benchmark/bert-base-uncased/bert-base-uncased-v14.tar.gz\n",
      "loaded 15 models with memory utilzation of 52.76%\n",
      "copy: s3://sagemaker-us-east-1-152804913371/mme-cv-benchmarkbert-base-uncased/bert-base-uncased.tar.gz to s3://sagemaker-us-east-1-152804913371/mme-cv-benchmark/bert-base-uncased/bert-base-uncased-v15.tar.gz\n",
      "loaded 16 models with memory utilzation of 55.96%\n",
      "copy: s3://sagemaker-us-east-1-152804913371/mme-cv-benchmarkbert-base-uncased/bert-base-uncased.tar.gz to s3://sagemaker-us-east-1-152804913371/mme-cv-benchmark/bert-base-uncased/bert-base-uncased-v16.tar.gz\n",
      "loaded 17 models with memory utilzation of 59.30%\n",
      "copy: s3://sagemaker-us-east-1-152804913371/mme-cv-benchmarkbert-base-uncased/bert-base-uncased.tar.gz to s3://sagemaker-us-east-1-152804913371/mme-cv-benchmark/bert-base-uncased/bert-base-uncased-v17.tar.gz\n",
      "loaded 18 models with memory utilzation of 62.49%\n",
      "copy: s3://sagemaker-us-east-1-152804913371/mme-cv-benchmarkbert-base-uncased/bert-base-uncased.tar.gz to s3://sagemaker-us-east-1-152804913371/mme-cv-benchmark/bert-base-uncased/bert-base-uncased-v18.tar.gz\n",
      "loaded 19 models with memory utilzation of 65.68%\n",
      "copy: s3://sagemaker-us-east-1-152804913371/mme-cv-benchmarkbert-base-uncased/bert-base-uncased.tar.gz to s3://sagemaker-us-east-1-152804913371/mme-cv-benchmark/bert-base-uncased/bert-base-uncased-v19.tar.gz\n",
      "loaded 20 models with memory utilzation of 68.87%\n",
      "copy: s3://sagemaker-us-east-1-152804913371/mme-cv-benchmarkbert-base-uncased/bert-base-uncased.tar.gz to s3://sagemaker-us-east-1-152804913371/mme-cv-benchmark/bert-base-uncased/bert-base-uncased-v20.tar.gz\n",
      "loaded 21 models with memory utilzation of 72.07%\n",
      "copy: s3://sagemaker-us-east-1-152804913371/mme-cv-benchmarkbert-base-uncased/bert-base-uncased.tar.gz to s3://sagemaker-us-east-1-152804913371/mme-cv-benchmark/bert-base-uncased/bert-base-uncased-v21.tar.gz\n",
      "loaded 22 models with memory utilzation of 75.26%\n",
      "copy: s3://sagemaker-us-east-1-152804913371/mme-cv-benchmarkbert-base-uncased/bert-base-uncased.tar.gz to s3://sagemaker-us-east-1-152804913371/mme-cv-benchmark/bert-base-uncased/bert-base-uncased-v22.tar.gz\n",
      "loaded 23 models with memory utilzation of 78.45%\n",
      "copy: s3://sagemaker-us-east-1-152804913371/mme-cv-benchmarkbert-base-uncased/bert-base-uncased.tar.gz to s3://sagemaker-us-east-1-152804913371/mme-cv-benchmark/bert-base-uncased/bert-base-uncased-v23.tar.gz\n",
      "loaded 24 models with memory utilzation of 81.64%\n",
      "copy: s3://sagemaker-us-east-1-152804913371/mme-cv-benchmarkbert-base-uncased/bert-base-uncased.tar.gz to s3://sagemaker-us-east-1-152804913371/mme-cv-benchmark/bert-base-uncased/bert-base-uncased-v24.tar.gz\n",
      "loaded 25 models with memory utilzation of 84.98%\n",
      "copy: s3://sagemaker-us-east-1-152804913371/mme-cv-benchmarkbert-base-uncased/bert-base-uncased.tar.gz to s3://sagemaker-us-east-1-152804913371/mme-cv-benchmark/bert-base-uncased/bert-base-uncased-v25.tar.gz\n",
      "This instance is able to load 26 models with 88.18% of gpu memory consumed\n"
     ]
    }
   ],
   "source": [
    "models_loaded = 0\n",
    "memory_utilization_threshold = 0.9\n",
    "memory_utilization_history = []\n",
    "while True:\n",
    "    # make a copy of the model\n",
    "    !aws s3 cp {initial_model_path} {mme_path}{model_name}-v{models_loaded}.tar.gz\n",
    "    \n",
    "    # make a inference request to load model into memory\n",
    "    response = runtime_sm_client.invoke_endpoint(\n",
    "            EndpointName=endpoint_name,\n",
    "            ContentType=\"application/octet-stream\",\n",
    "            Body=json.dumps(payload),\n",
    "            TargetModel=f\"{model_name}-v{models_loaded}.tar.gz\", \n",
    "        )\n",
    "    \n",
    "    models_loaded+=1\n",
    "    \n",
    "    #get instance metrics\n",
    "    instance_metrics = get_instance_utilization(runtime_sm_client, endpoint_name)\n",
    "    model_avg_mem_consumption = instance_metrics[\"gpu_used_memory\"] / models_loaded\n",
    "    \n",
    "    # get an estimate of the gpu memory util once next model is loaded\n",
    "    next_gpu_mem_util = (instance_metrics[\"gpu_used_memory\"] + model_avg_mem_consumption) / instance_metrics[\"gpu_total_memory\"]\n",
    "    \n",
    "    memory_utilization = instance_metrics[\"gpu_memory_utilization\"]\n",
    "    memory_utilization_history.append(memory_utilization)\n",
    "    \n",
    "    # terminate loop if the memory consumption is exceeded once next model is loaded\n",
    "    if next_gpu_mem_util >= memory_utilization_threshold:\n",
    "        print(f\"This instance is able to load {models_loaded} models with {memory_utilization:.2%} of gpu memory consumed\")\n",
    "        break\n",
    "        \n",
    "    print(f\"loaded {models_loaded} models with memory utilzation of {memory_utilization:.2%}\")"
   ]
  },
  {
   "cell_type": "markdown",
   "id": "6ce4741b",
   "metadata": {},
   "source": [
    "## Benchmark Pytorch Model using Locust\n",
    "\n",
    "`locust_benchmark_sm.py` is provided in the 'locust' folder"
   ]
  },
  {
   "cell_type": "markdown",
   "id": "e541e166",
   "metadata": {},
   "source": [
    "<div class=\"alert alert-info\"> <strong> Note: </strong>\n",
    "The load test is run with up to 200 simulated workers. This may not be suitable for larger models with long response times. You can modify the <code>StagesShape</code> Class in the <code>locust/locust_benchmark_sm.py</code> file to adjust the traffic pattern and the number of concurrent workers\n",
    "</div>"
   ]
  },
  {
   "cell_type": "code",
   "execution_count": 69,
   "id": "71d72f1f",
   "metadata": {
    "tags": []
   },
   "outputs": [],
   "source": [
    "locust_result_path = Path(\"results\") / model_name\n",
    "locust_result_path.mkdir(parents=True,exist_ok=True)"
   ]
  },
  {
   "cell_type": "code",
   "execution_count": 145,
   "id": "7a3de682",
   "metadata": {
    "tags": []
   },
   "outputs": [
    {
     "name": "stdout",
     "output_type": "stream",
     "text": [
      "running load test\n",
      "{'Type': 'InvokeEndpoint', 'Name': 'bert-base-uncased', 'Request Count': '471', 'Failure Count': '0', 'Median Response Time': '68', 'Average Response Time': '70.77141918267682', 'Min Response Time': '43.92419592477381', 'Max Response Time': '1922.272854950279', 'Average Content Size': '0.0', 'Requests/s': '27.404034368674317', 'Failures/s': '0.0', '50%': '68', '66%': '72', '75%': '75', '80%': '77', '90%': '82', '95%': '89', '98%': '100', '99%': '110', '99.9%': '1900', '99.99%': '1900', '100%': '1900'}\n",
      "{'Type': 'InvokeEndpoint', 'Name': 'bert-base-uncased', 'Request Count': '1712', 'Failure Count': '0', 'Median Response Time': '56', 'Average Response Time': '64.60898374800274', 'Min Response Time': '43.796242913231254', 'Max Response Time': '2116.6978520341218', 'Average Content Size': '0.0', 'Requests/s': '36.16024139243153', 'Failures/s': '0.0', '50%': '56', '66%': '67', '75%': '71', '80%': '73', '90%': '80', '95%': '88', '98%': '110', '99%': '130', '99.9%': '1900', '99.99%': '2100', '100%': '2100'}\n",
      "{'Type': 'InvokeEndpoint', 'Name': 'bert-base-uncased', 'Request Count': '4084', 'Failure Count': '0', 'Median Response Time': '61', 'Average Response Time': '70.2967862953773', 'Min Response Time': '43.640658957883716', 'Max Response Time': '2116.6978520341218', 'Average Content Size': '0.0', 'Requests/s': '52.804891656634545', 'Failures/s': '0.0', '50%': '61', '66%': '70', '75%': '75', '80%': '79', '90%': '97', '95%': '120', '98%': '150', '99%': '170', '99.9%': '1100', '99.99%': '2100', '100%': '2100'}\n",
      "{'Type': 'InvokeEndpoint', 'Name': 'bert-base-uncased', 'Request Count': '7560', 'Failure Count': '0', 'Median Response Time': '74', 'Average Response Time': '101.8352779385784', 'Min Response Time': '43.640658957883716', 'Max Response Time': '2116.6978520341218', 'Average Content Size': '0.0', 'Requests/s': '70.34376627842477', 'Failures/s': '0.0', '50%': '74', '66%': '93', '75%': '110', '80%': '130', '90%': '190', '95%': '250', '98%': '330', '99%': '400', '99.9%': '970', '99.99%': '2100', '100%': '2100'}\n",
      "{'Type': 'InvokeEndpoint', 'Name': 'bert-base-uncased', 'Request Count': '11093', 'Failure Count': '0', 'Median Response Time': '110.0', 'Average Response Time': '164.33956700805425', 'Min Response Time': '43.640658957883716', 'Max Response Time': '2391.5114200208336', 'Average Content Size': '0.0', 'Requests/s': '80.66109316136873', 'Failures/s': '0.0', '50%': '110', '66%': '160', '75%': '210', '80%': '240', '90%': '340', '95%': '460', '98%': '620', '99%': '780', '99.9%': '1700', '99.99%': '2300', '100%': '2400'}\n",
      "{'Type': 'InvokeEndpoint', 'Name': 'bert-base-uncased', 'Request Count': '14497', 'Failure Count': '0', 'Median Response Time': '150.0', 'Average Response Time': '242.51895843056639', 'Min Response Time': '43.640658957883716', 'Max Response Time': '3447.154206922278', 'Average Content Size': '0.0', 'Requests/s': '86.5424805772809', 'Failures/s': '0.0', '50%': '150', '66%': '240', '75%': '300', '80%': '360', '90%': '550', '95%': '760', '98%': '1100', '99%': '1300', '99.9%': '1900', '99.99%': '2800', '100%': '3400'}\n",
      "{'Type': 'InvokeEndpoint', 'Name': 'bert-base-uncased', 'Request Count': '17803', 'Failure Count': '0', 'Median Response Time': '200.0', 'Average Response Time': '326.25664947647584', 'Min Response Time': '43.640658957883716', 'Max Response Time': '4688.5175129864365', 'Average Content Size': '0.0', 'Requests/s': '90.1968171693804', 'Failures/s': '0.0', '50%': '200', '66%': '320', '75%': '420', '80%': '510', '90%': '780', '95%': '1100', '98%': '1400', '99%': '1700', '99.9%': '2500', '99.99%': '4400', '100%': '4700'}\n",
      "{'Type': 'InvokeEndpoint', 'Name': 'bert-base-uncased', 'Request Count': '21032', 'Failure Count': '0', 'Median Response Time': '250.0', 'Average Response Time': '415.3455506666422', 'Min Response Time': '43.640658957883716', 'Max Response Time': '7396.337412064895', 'Average Content Size': '0.0', 'Requests/s': '92.4570216606907', 'Failures/s': '0.0', '50%': '250', '66%': '400', '75%': '530', '80%': '640', '90%': '1000', '95%': '1400', '98%': '1900', '99%': '2300', '99.9%': '3700', '99.99%': '5500', '100%': '7400'}\n",
      "{'Type': 'InvokeEndpoint', 'Name': 'bert-base-uncased', 'Request Count': '24189', 'Failure Count': '0', 'Median Response Time': '300.0', 'Average Response Time': '506.85701126343747', 'Min Response Time': '43.640658957883716', 'Max Response Time': '7396.337412064895', 'Average Content Size': '0.0', 'Requests/s': '93.91977542543317', 'Failures/s': '0.0', '50%': '300', '66%': '500', '75%': '670', '80%': '810', '90%': '1300', '95%': '1700', '98%': '2300', '99%': '2700', '99.9%': '3800', '99.99%': '5500', '100%': '7400'}\n",
      "{'Type': 'InvokeEndpoint', 'Name': 'bert-base-uncased', 'Request Count': '27306', 'Failure Count': '0', 'Median Response Time': '350.0', 'Average Response Time': '601.8622215004657', 'Min Response Time': '43.640658957883716', 'Max Response Time': '7396.337412064895', 'Average Content Size': '0.0', 'Requests/s': '94.97260550924072', 'Failures/s': '0.0', '50%': '350', '66%': '580', '75%': '800', '80%': '970', '90%': '1500', '95%': '2000', '98%': '2800', '99%': '3300', '99.9%': '4300', '99.99%': '7100', '100%': '7400'}\n",
      "{'Type': 'InvokeEndpoint', 'Name': 'bert-base-uncased', 'Request Count': '30417', 'Failure Count': '0', 'Median Response Time': '400.0', 'Average Response Time': '696.3186929281169', 'Min Response Time': '43.640658957883716', 'Max Response Time': '9566.510042874143', 'Average Content Size': '0.0', 'Requests/s': '95.77934863115338', 'Failures/s': '0.0', '50%': '400', '66%': '690', '75%': '950', '80%': '1100', '90%': '1700', '95%': '2400', '98%': '3200', '99%': '3700', '99.9%': '4900', '99.99%': '8500', '100%': '9600'}\n",
      "load test completed with exit code 0\n",
      "\n",
      "cleaning up\n",
      "CPU times: user 31.3 ms, sys: 158 ms, total: 189 ms\n",
      "Wall time: 5min 50s\n"
     ]
    },
    {
     "data": {
      "text/plain": [
       "PosixPath('results/bert-base-uncased/ml.g4dn.2xlarge*pt*26')"
      ]
     },
     "execution_count": 145,
     "metadata": {},
     "output_type": "execute_result"
    }
   ],
   "source": [
    "%%time\n",
    "output_path = (locust_result_path / f\"{instance_type}*pt*{models_loaded}\") # capture the instance type, engine, and models loaded in file name\n",
    "run_load_test(endpoint_name, use_case, model_name, models_loaded, output_path, print_stdout=True, n_procs=6, sample_payload=json.dumps(payload))"
   ]
  },
  {
   "cell_type": "code",
   "execution_count": 146,
   "id": "200954b8",
   "metadata": {
    "tags": []
   },
   "outputs": [],
   "source": [
    "# import some utilities to analyze the results of the load test\n",
    "from utils.viz_utils import get_summary_results, generate_summary_plots, generate_metrics_summary"
   ]
  },
  {
   "cell_type": "code",
   "execution_count": 147,
   "id": "e8aa859a",
   "metadata": {
    "tags": []
   },
   "outputs": [],
   "source": [
    "%matplotlib inline"
   ]
  },
  {
   "cell_type": "code",
   "execution_count": 148,
   "id": "f19e34eb",
   "metadata": {
    "tags": []
   },
   "outputs": [],
   "source": [
    "load_test_summary = get_summary_results(locust_result_path)"
   ]
  },
  {
   "cell_type": "code",
   "execution_count": 149,
   "id": "8cdb4281",
   "metadata": {
    "tags": []
   },
   "outputs": [
    {
     "data": {
      "text/plain": [
       "defaultdict(dict,\n",
       "            {'bert-base-uncased': {'ml.g4dn.2xlarge*pt': <Figure size 720x432 with 3 Axes>}})"
      ]
     },
     "execution_count": 149,
     "metadata": {},
     "output_type": "execute_result"
    },
    {
     "data": {
      "image/png": "[encoded data removed]",
      "text/plain": [
       "<Figure size 720x432 with 3 Axes>"
      ]
     },
     "metadata": {
      "needs_background": "light"
     },
     "output_type": "display_data"
    }
   ],
   "source": [
    "generate_summary_plots(load_test_summary)"
   ]
  },
  {
   "cell_type": "markdown",
   "id": "b43ff0e1",
   "metadata": {},
   "source": [
    "## Clean Up PyTorch Endpoint"
   ]
  },
  {
   "cell_type": "code",
   "execution_count": 150,
   "id": "85195772",
   "metadata": {
    "tags": []
   },
   "outputs": [
    {
     "name": "stdout",
     "output_type": "stream",
     "text": [
      "delete: s3://sagemaker-us-east-1-152804913371/mme-cv-benchmark/bert-base-uncased/bert-base-uncased-v0.tar.gz\n",
      "delete: s3://sagemaker-us-east-1-152804913371/mme-cv-benchmark/bert-base-uncased/bert-base-uncased-v12.tar.gz\n",
      "delete: s3://sagemaker-us-east-1-152804913371/mme-cv-benchmark/bert-base-uncased/bert-base-uncased-v1.tar.gz\n",
      "delete: s3://sagemaker-us-east-1-152804913371/mme-cv-benchmark/bert-base-uncased/bert-base-uncased-v11.tar.gz\n",
      "delete: s3://sagemaker-us-east-1-152804913371/mme-cv-benchmark/bert-base-uncased/bert-base-uncased-v17.tar.gz\n",
      "delete: s3://sagemaker-us-east-1-152804913371/mme-cv-benchmark/bert-base-uncased/bert-base-uncased-v10.tar.gz\n",
      "delete: s3://sagemaker-us-east-1-152804913371/mme-cv-benchmark/bert-base-uncased/bert-base-uncased-v19.tar.gz\n",
      "delete: s3://sagemaker-us-east-1-152804913371/mme-cv-benchmark/bert-base-uncased/bert-base-uncased-v14.tar.gz\n",
      "delete: s3://sagemaker-us-east-1-152804913371/mme-cv-benchmark/bert-base-uncased/bert-base-uncased-v15.tar.gz\n",
      "delete: s3://sagemaker-us-east-1-152804913371/mme-cv-benchmark/bert-base-uncased/bert-base-uncased-v18.tar.gz\n",
      "delete: s3://sagemaker-us-east-1-152804913371/mme-cv-benchmark/bert-base-uncased/bert-base-uncased-v16.tar.gz\n",
      "delete: s3://sagemaker-us-east-1-152804913371/mme-cv-benchmark/bert-base-uncased/bert-base-uncased-v13.tar.gz\n",
      "delete: s3://sagemaker-us-east-1-152804913371/mme-cv-benchmark/bert-base-uncased/bert-base-uncased-v21.tar.gz\n",
      "delete: s3://sagemaker-us-east-1-152804913371/mme-cv-benchmark/bert-base-uncased/bert-base-uncased-v2.tar.gz\n",
      "delete: s3://sagemaker-us-east-1-152804913371/mme-cv-benchmark/bert-base-uncased/bert-base-uncased-v3.tar.gz\n",
      "delete: s3://sagemaker-us-east-1-152804913371/mme-cv-benchmark/bert-base-uncased/bert-base-uncased-v23.tar.gz\n",
      "delete: s3://sagemaker-us-east-1-152804913371/mme-cv-benchmark/bert-base-uncased/bert-base-uncased-v7.tar.gz\n",
      "delete: s3://sagemaker-us-east-1-152804913371/mme-cv-benchmark/bert-base-uncased/bert-base-uncased-v20.tar.gz\n",
      "delete: s3://sagemaker-us-east-1-152804913371/mme-cv-benchmark/bert-base-uncased/bert-base-uncased-v22.tar.gz\n",
      "delete: s3://sagemaker-us-east-1-152804913371/mme-cv-benchmark/bert-base-uncased/bert-base-uncased-v24.tar.gz\n",
      "delete: s3://sagemaker-us-east-1-152804913371/mme-cv-benchmark/bert-base-uncased/bert-base-uncased-v4.tar.gz\n",
      "delete: s3://sagemaker-us-east-1-152804913371/mme-cv-benchmark/bert-base-uncased/bert-base-uncased-v5.tar.gz\n",
      "delete: s3://sagemaker-us-east-1-152804913371/mme-cv-benchmark/bert-base-uncased/bert-base-uncased-v6.tar.gz\n",
      "delete: s3://sagemaker-us-east-1-152804913371/mme-cv-benchmark/bert-base-uncased/metrics.tar.gz\n",
      "delete: s3://sagemaker-us-east-1-152804913371/mme-cv-benchmark/bert-base-uncased/bert-base-uncased-v9.tar.gz\n",
      "delete: s3://sagemaker-us-east-1-152804913371/mme-cv-benchmark/bert-base-uncased/bert-base-uncased-v25.tar.gz\n",
      "delete: s3://sagemaker-us-east-1-152804913371/mme-cv-benchmark/bert-base-uncased/bert-base-uncased-v8.tar.gz\n"
     ]
    }
   ],
   "source": [
    "delete_endpoint(sm_client, sm_model_name, endpoint_config_name, endpoint_name)\n",
    "! aws s3 rm --recursive {mme_path}"
   ]
  },
  {
   "cell_type": "markdown",
   "id": "8c187f7c",
   "metadata": {},
   "source": [
    "## Benchmark a TensorRT model\n",
    "Next we'll convert the PyTorch model to a TensorRT model with the following steps\n",
    "\n",
    "1. Convert the model to ONNX. ONNX is intemediate file format which is framework agnostic. It works with models in TF, PyTorch and more.\n",
    "\n",
    "2. Spin up a SageMaker processing job to convert ONNX model to a TensorRT model plan. You will export the weights of your model from the framework and load them into your TensorRT network.\n",
    "\n",
    "<div class=\"alert-danger\" role=\"alert\"> <strong> Warning: </strong>\n",
    "For TensorRT models, The hosting instance type must match the instance type the model is compiled on. To help ensure compatability, we'll compile the model using a SageMaker Processing job. Note that this will incur an additional cost of running the job. Also, SageMaker Processing doescurrently support ml.g5 family of instances, so these compiled models will only run on the ml.g4dn family of instances. To deploy on an ml.g5 instance, please compile the model on an EC2 or a SageMaker notebook instance \n",
    "</div>\n",
    "\n",
    "### <span style=\"color:red\"> </span>"
   ]
  },
  {
   "cell_type": "code",
   "execution_count": 152,
   "id": "3bc0ae61",
   "metadata": {
    "tags": []
   },
   "outputs": [
    {
     "data": {
      "text/plain": [
       "PosixPath('onnx-models/bert-base-uncased/model.onnx')"
      ]
     },
     "execution_count": 152,
     "metadata": {},
     "output_type": "execute_result"
    }
   ],
   "source": [
    "onnx_model_path = Path(f\"onnx-models/{model_name}\")\n",
    "onnx_model_path.mkdir(exist_ok=True)\n",
    "exported_onnx_path, onnx_config = model_utils.export_onnx_nlp(model=model, tokenizer=tokenizer, save_path=onnx_model_path)\n",
    "exported_onnx_path"
   ]
  },
  {
   "cell_type": "code",
   "execution_count": 154,
   "id": "d9b45a7f",
   "metadata": {
    "tags": []
   },
   "outputs": [
    {
     "data": {
      "text/plain": [
       "['--minShapes=input_ids:1x128,attention_mask:1x128,token_type_ids:1x128',\n",
       " '--optShapes=input_ids:16x128,attention_mask:16x128,token_type_ids:16x128',\n",
       " '--maxShapes=input_ids:32x128,attention_mask:32x128,token_type_ids:32x128',\n",
       " '--fp16',\n",
       " '--verbose']"
      ]
     },
     "execution_count": 154,
     "metadata": {},
     "output_type": "execute_result"
    }
   ],
   "source": [
    "trt_compilation_args = model_utils.gen_trt_inp_compilation_config(onnx_config, max_seq_len) + [\"--fp16\",\"--verbose\"]\n",
    "trt_compilation_args"
   ]
  },
  {
   "cell_type": "code",
   "execution_count": null,
   "id": "4a549ac3-8541-4156-bafa-95c05f0a2482",
   "metadata": {
    "tags": []
   },
   "outputs": [
    {
     "name": "stdout",
     "output_type": "stream",
     "text": [
      "Waiting for training job trt-compilation2022-12-23-22-05-30 to complete\n",
      "\n",
      "2022-12-23 22:05:32 Starting - Starting the training job..\n",
      "2022-12-23 22:05:47 Starting - Preparing the instances for training..................\n",
      "2022-12-23 22:07:23 Downloading - Downloading input data.....\n",
      "2022-12-23 22:07:53 Training - Downloading the training image.............................\n",
      "2022-12-23 22:10:24 Training - Training image download completed. Training in progress........................"
     ]
    }
   ],
   "source": [
    "trt_model_path = model_utils.compile_trt(onnx_model_path=exported_onnx_path, \n",
    "                             sagemaker_session=sess, \n",
    "                             bucket=bucket,\n",
    "                             prefix=prefix,\n",
    "                             role=role,\n",
    "                             image_uri=mme_triton_image_uri, \n",
    "                             instance_type=instance_type, \n",
    "                             trt_compilation_args=trt_compilation_args)"
   ]
  },
  {
   "cell_type": "markdown",
   "id": "4c51b744",
   "metadata": {},
   "source": [
    "Package TensorRT model for Triton sever on SageMaker"
   ]
  },
  {
   "cell_type": "code",
   "execution_count": 176,
   "id": "aa4c6b9e-80f7-4edc-bd64-e0ed37529bde",
   "metadata": {
    "tags": []
   },
   "outputs": [],
   "source": [
    "trt_triton_config_path = model_utils.generate_triton_config(platform=\"trt\")"
   ]
  },
  {
   "cell_type": "code",
   "execution_count": 177,
   "id": "014d7298",
   "metadata": {
    "tags": []
   },
   "outputs": [],
   "source": [
    "trt_model_atifact_path = model_utils.package_triton_model(model_name, trt_model_path, trt_triton_config_path)"
   ]
  },
  {
   "cell_type": "code",
   "execution_count": 178,
   "id": "7eed124d",
   "metadata": {},
   "outputs": [],
   "source": [
    "initial_trt_model_path = sess.upload_data(trt_model_atifact_path.as_posix(), bucket=bucket, key_prefix=prefix) \n",
    "trt_mme_path = f\"s3://{bucket}/{prefix}/trt-{model_name}/\""
   ]
  },
  {
   "cell_type": "markdown",
   "id": "11eaaede",
   "metadata": {},
   "source": [
    "## Create a SageMaker Multi-Model Endpoint for TensorRT Model"
   ]
  },
  {
   "cell_type": "code",
   "execution_count": 163,
   "id": "01f73220",
   "metadata": {},
   "outputs": [],
   "source": [
    "trt_container = {\n",
    "    \"Image\": mme_triton_image_uri,\n",
    "    \"ModelDataUrl\": trt_mme_path,\n",
    "    \"Mode\": \"MultiModel\",\n",
    "}"
   ]
  },
  {
   "cell_type": "code",
   "execution_count": 164,
   "id": "457b870b",
   "metadata": {},
   "outputs": [
    {
     "name": "stdout",
     "output_type": "stream",
     "text": [
      "Model Arn: arn:aws:sagemaker:us-east-1:152804913371:model/bert-base-uncased-trt-gpu-2022-12-26-15-00-10\n",
      "Endpoint Config Arn: arn:aws:sagemaker:us-east-1:152804913371:endpoint-config/bert-base-uncased-trt-gpu-2022-12-26-15-00-11\n",
      "Endpoint Arn: arn:aws:sagemaker:us-east-1:152804913371:endpoint/bert-base-uncased-trt-gpu-2022-12-26-15-00-11\n",
      "Status: Creating\n",
      "Status: Creating\n",
      "Status: Creating\n",
      "Status: Creating\n",
      "Status: Creating\n",
      "Status: Creating\n",
      "Status: InService\n",
      "Arn: arn:aws:sagemaker:us-east-1:152804913371:endpoint/bert-base-uncased-trt-gpu-2022-12-26-15-00-11\n",
      "Status: InService\n"
     ]
    }
   ],
   "source": [
    "sm_model_name, endpoint_config_name, endpoint_name = create_endpoint(sm_client, model_name, role, trt_container, instance_type, \"trt\")"
   ]
  },
  {
   "cell_type": "markdown",
   "id": "aec03426",
   "metadata": {},
   "source": [
    "Copy the Python model to query the instance metrics"
   ]
  },
  {
   "cell_type": "code",
   "execution_count": 173,
   "id": "c6fab867-2d90-4746-b9ed-5c35c51e660f",
   "metadata": {
    "tags": []
   },
   "outputs": [
    {
     "name": "stdout",
     "output_type": "stream",
     "text": [
      "upload: ./metrics.tar.gz to s3://sagemaker-us-east-1-152804913371/mme-cv-benchmark/trt-bert-base-uncased/metrics.tar.gz\n"
     ]
    }
   ],
   "source": [
    "!aws s3 cp metrics.tar.gz {trt_mme_path}"
   ]
  },
  {
   "cell_type": "code",
   "execution_count": 179,
   "id": "9af0daf4",
   "metadata": {},
   "outputs": [
    {
     "data": {
      "text/plain": [
       "{'gpu_utilization': 0.0,\n",
       " 'gpu_memory_utilization': 0.019921900853795752,\n",
       " 'gpu_total_memory': 15109.0,\n",
       " 'gpu_free_memory': 14808.0,\n",
       " 'gpu_used_memory': 301.0,\n",
       " 'cpu_utilization': 0.800000011920929,\n",
       " 'memory_utilization': 0.05000000074505806}"
      ]
     },
     "execution_count": 179,
     "metadata": {},
     "output_type": "execute_result"
    }
   ],
   "source": [
    "get_instance_utilization(runtime_sm_client, endpoint_name) #invoke once to load the python model in memory"
   ]
  },
  {
   "cell_type": "markdown",
   "id": "99ab793e",
   "metadata": {},
   "source": [
    "## Load TensorRT Models into Endpoint\n",
    "We'll repeat the same procedure to determine the max number of TensorRT models that we can load in memory"
   ]
  },
  {
   "cell_type": "code",
   "execution_count": 180,
   "id": "fc0fc5fb",
   "metadata": {},
   "outputs": [
    {
     "name": "stdout",
     "output_type": "stream",
     "text": [
      "copy: s3://sagemaker-us-east-1-152804913371/mme-cv-benchmark/bert-base-uncased.tar.gz to s3://sagemaker-us-east-1-152804913371/mme-cv-benchmark/trt-bert-base-uncased/bert-base-uncased-v0.tar.gz\n",
      "loaded 1 models with memory utilzation of 5.06%\n",
      "copy: s3://sagemaker-us-east-1-152804913371/mme-cv-benchmark/bert-base-uncased.tar.gz to s3://sagemaker-us-east-1-152804913371/mme-cv-benchmark/trt-bert-base-uncased/bert-base-uncased-v1.tar.gz\n",
      "loaded 2 models with memory utilzation of 7.11%\n",
      "copy: s3://sagemaker-us-east-1-152804913371/mme-cv-benchmark/bert-base-uncased.tar.gz to s3://sagemaker-us-east-1-152804913371/mme-cv-benchmark/trt-bert-base-uncased/bert-base-uncased-v2.tar.gz\n",
      "loaded 3 models with memory utilzation of 9.18%\n",
      "copy: s3://sagemaker-us-east-1-152804913371/mme-cv-benchmark/bert-base-uncased.tar.gz to s3://sagemaker-us-east-1-152804913371/mme-cv-benchmark/trt-bert-base-uncased/bert-base-uncased-v3.tar.gz\n",
      "loaded 4 models with memory utilzation of 11.24%\n",
      "copy: s3://sagemaker-us-east-1-152804913371/mme-cv-benchmark/bert-base-uncased.tar.gz to s3://sagemaker-us-east-1-152804913371/mme-cv-benchmark/trt-bert-base-uncased/bert-base-uncased-v4.tar.gz\n",
      "loaded 5 models with memory utilzation of 13.31%\n",
      "copy: s3://sagemaker-us-east-1-152804913371/mme-cv-benchmark/bert-base-uncased.tar.gz to s3://sagemaker-us-east-1-152804913371/mme-cv-benchmark/trt-bert-base-uncased/bert-base-uncased-v5.tar.gz\n",
      "loaded 6 models with memory utilzation of 15.36%\n",
      "copy: s3://sagemaker-us-east-1-152804913371/mme-cv-benchmark/bert-base-uncased.tar.gz to s3://sagemaker-us-east-1-152804913371/mme-cv-benchmark/trt-bert-base-uncased/bert-base-uncased-v6.tar.gz\n",
      "loaded 7 models with memory utilzation of 17.43%\n",
      "copy: s3://sagemaker-us-east-1-152804913371/mme-cv-benchmark/bert-base-uncased.tar.gz to s3://sagemaker-us-east-1-152804913371/mme-cv-benchmark/trt-bert-base-uncased/bert-base-uncased-v7.tar.gz\n",
      "loaded 8 models with memory utilzation of 19.49%\n",
      "copy: s3://sagemaker-us-east-1-152804913371/mme-cv-benchmark/bert-base-uncased.tar.gz to s3://sagemaker-us-east-1-152804913371/mme-cv-benchmark/trt-bert-base-uncased/bert-base-uncased-v8.tar.gz\n",
      "loaded 9 models with memory utilzation of 21.56%\n",
      "copy: s3://sagemaker-us-east-1-152804913371/mme-cv-benchmark/bert-base-uncased.tar.gz to s3://sagemaker-us-east-1-152804913371/mme-cv-benchmark/trt-bert-base-uncased/bert-base-uncased-v9.tar.gz\n",
      "loaded 10 models with memory utilzation of 23.62%\n",
      "copy: s3://sagemaker-us-east-1-152804913371/mme-cv-benchmark/bert-base-uncased.tar.gz to s3://sagemaker-us-east-1-152804913371/mme-cv-benchmark/trt-bert-base-uncased/bert-base-uncased-v10.tar.gz\n",
      "loaded 11 models with memory utilzation of 25.67%\n",
      "copy: s3://sagemaker-us-east-1-152804913371/mme-cv-benchmark/bert-base-uncased.tar.gz to s3://sagemaker-us-east-1-152804913371/mme-cv-benchmark/trt-bert-base-uncased/bert-base-uncased-v11.tar.gz\n",
      "loaded 12 models with memory utilzation of 27.75%\n",
      "copy: s3://sagemaker-us-east-1-152804913371/mme-cv-benchmark/bert-base-uncased.tar.gz to s3://sagemaker-us-east-1-152804913371/mme-cv-benchmark/trt-bert-base-uncased/bert-base-uncased-v12.tar.gz\n",
      "loaded 13 models with memory utilzation of 29.82%\n",
      "copy: s3://sagemaker-us-east-1-152804913371/mme-cv-benchmark/bert-base-uncased.tar.gz to s3://sagemaker-us-east-1-152804913371/mme-cv-benchmark/trt-bert-base-uncased/bert-base-uncased-v13.tar.gz\n",
      "loaded 14 models with memory utilzation of 31.88%\n",
      "copy: s3://sagemaker-us-east-1-152804913371/mme-cv-benchmark/bert-base-uncased.tar.gz to s3://sagemaker-us-east-1-152804913371/mme-cv-benchmark/trt-bert-base-uncased/bert-base-uncased-v14.tar.gz\n",
      "loaded 15 models with memory utilzation of 33.95%\n",
      "copy: s3://sagemaker-us-east-1-152804913371/mme-cv-benchmark/bert-base-uncased.tar.gz to s3://sagemaker-us-east-1-152804913371/mme-cv-benchmark/trt-bert-base-uncased/bert-base-uncased-v15.tar.gz\n",
      "loaded 16 models with memory utilzation of 36.02%\n",
      "copy: s3://sagemaker-us-east-1-152804913371/mme-cv-benchmark/bert-base-uncased.tar.gz to s3://sagemaker-us-east-1-152804913371/mme-cv-benchmark/trt-bert-base-uncased/bert-base-uncased-v16.tar.gz\n",
      "loaded 17 models with memory utilzation of 38.08%\n",
      "copy: s3://sagemaker-us-east-1-152804913371/mme-cv-benchmark/bert-base-uncased.tar.gz to s3://sagemaker-us-east-1-152804913371/mme-cv-benchmark/trt-bert-base-uncased/bert-base-uncased-v17.tar.gz\n",
      "loaded 18 models with memory utilzation of 40.13%\n",
      "copy: s3://sagemaker-us-east-1-152804913371/mme-cv-benchmark/bert-base-uncased.tar.gz to s3://sagemaker-us-east-1-152804913371/mme-cv-benchmark/trt-bert-base-uncased/bert-base-uncased-v18.tar.gz\n",
      "loaded 19 models with memory utilzation of 42.19%\n",
      "copy: s3://sagemaker-us-east-1-152804913371/mme-cv-benchmark/bert-base-uncased.tar.gz to s3://sagemaker-us-east-1-152804913371/mme-cv-benchmark/trt-bert-base-uncased/bert-base-uncased-v19.tar.gz\n",
      "loaded 20 models with memory utilzation of 44.27%\n",
      "copy: s3://sagemaker-us-east-1-152804913371/mme-cv-benchmark/bert-base-uncased.tar.gz to s3://sagemaker-us-east-1-152804913371/mme-cv-benchmark/trt-bert-base-uncased/bert-base-uncased-v20.tar.gz\n",
      "loaded 21 models with memory utilzation of 46.32%\n",
      "copy: s3://sagemaker-us-east-1-152804913371/mme-cv-benchmark/bert-base-uncased.tar.gz to s3://sagemaker-us-east-1-152804913371/mme-cv-benchmark/trt-bert-base-uncased/bert-base-uncased-v21.tar.gz\n",
      "loaded 22 models with memory utilzation of 48.38%\n",
      "copy: s3://sagemaker-us-east-1-152804913371/mme-cv-benchmark/bert-base-uncased.tar.gz to s3://sagemaker-us-east-1-152804913371/mme-cv-benchmark/trt-bert-base-uncased/bert-base-uncased-v22.tar.gz\n",
      "loaded 23 models with memory utilzation of 50.45%\n",
      "copy: s3://sagemaker-us-east-1-152804913371/mme-cv-benchmark/bert-base-uncased.tar.gz to s3://sagemaker-us-east-1-152804913371/mme-cv-benchmark/trt-bert-base-uncased/bert-base-uncased-v23.tar.gz\n",
      "loaded 24 models with memory utilzation of 52.52%\n",
      "copy: s3://sagemaker-us-east-1-152804913371/mme-cv-benchmark/bert-base-uncased.tar.gz to s3://sagemaker-us-east-1-152804913371/mme-cv-benchmark/trt-bert-base-uncased/bert-base-uncased-v24.tar.gz\n",
      "loaded 25 models with memory utilzation of 54.58%\n",
      "copy: s3://sagemaker-us-east-1-152804913371/mme-cv-benchmark/bert-base-uncased.tar.gz to s3://sagemaker-us-east-1-152804913371/mme-cv-benchmark/trt-bert-base-uncased/bert-base-uncased-v25.tar.gz\n",
      "loaded 26 models with memory utilzation of 56.65%\n",
      "copy: s3://sagemaker-us-east-1-152804913371/mme-cv-benchmark/bert-base-uncased.tar.gz to s3://sagemaker-us-east-1-152804913371/mme-cv-benchmark/trt-bert-base-uncased/bert-base-uncased-v26.tar.gz\n",
      "loaded 27 models with memory utilzation of 58.69%\n",
      "copy: s3://sagemaker-us-east-1-152804913371/mme-cv-benchmark/bert-base-uncased.tar.gz to s3://sagemaker-us-east-1-152804913371/mme-cv-benchmark/trt-bert-base-uncased/bert-base-uncased-v27.tar.gz\n",
      "loaded 28 models with memory utilzation of 60.77%\n",
      "copy: s3://sagemaker-us-east-1-152804913371/mme-cv-benchmark/bert-base-uncased.tar.gz to s3://sagemaker-us-east-1-152804913371/mme-cv-benchmark/trt-bert-base-uncased/bert-base-uncased-v28.tar.gz\n",
      "loaded 29 models with memory utilzation of 62.84%\n",
      "copy: s3://sagemaker-us-east-1-152804913371/mme-cv-benchmark/bert-base-uncased.tar.gz to s3://sagemaker-us-east-1-152804913371/mme-cv-benchmark/trt-bert-base-uncased/bert-base-uncased-v29.tar.gz\n",
      "loaded 30 models with memory utilzation of 64.91%\n",
      "copy: s3://sagemaker-us-east-1-152804913371/mme-cv-benchmark/bert-base-uncased.tar.gz to s3://sagemaker-us-east-1-152804913371/mme-cv-benchmark/trt-bert-base-uncased/bert-base-uncased-v30.tar.gz\n",
      "loaded 31 models with memory utilzation of 66.96%\n",
      "copy: s3://sagemaker-us-east-1-152804913371/mme-cv-benchmark/bert-base-uncased.tar.gz to s3://sagemaker-us-east-1-152804913371/mme-cv-benchmark/trt-bert-base-uncased/bert-base-uncased-v31.tar.gz\n",
      "loaded 32 models with memory utilzation of 69.03%\n",
      "copy: s3://sagemaker-us-east-1-152804913371/mme-cv-benchmark/bert-base-uncased.tar.gz to s3://sagemaker-us-east-1-152804913371/mme-cv-benchmark/trt-bert-base-uncased/bert-base-uncased-v32.tar.gz\n",
      "loaded 33 models with memory utilzation of 71.09%\n",
      "copy: s3://sagemaker-us-east-1-152804913371/mme-cv-benchmark/bert-base-uncased.tar.gz to s3://sagemaker-us-east-1-152804913371/mme-cv-benchmark/trt-bert-base-uncased/bert-base-uncased-v33.tar.gz\n",
      "loaded 34 models with memory utilzation of 73.14%\n",
      "copy: s3://sagemaker-us-east-1-152804913371/mme-cv-benchmark/bert-base-uncased.tar.gz to s3://sagemaker-us-east-1-152804913371/mme-cv-benchmark/trt-bert-base-uncased/bert-base-uncased-v34.tar.gz\n",
      "loaded 35 models with memory utilzation of 75.23%\n",
      "copy: s3://sagemaker-us-east-1-152804913371/mme-cv-benchmark/bert-base-uncased.tar.gz to s3://sagemaker-us-east-1-152804913371/mme-cv-benchmark/trt-bert-base-uncased/bert-base-uncased-v35.tar.gz\n",
      "loaded 36 models with memory utilzation of 77.30%\n",
      "copy: s3://sagemaker-us-east-1-152804913371/mme-cv-benchmark/bert-base-uncased.tar.gz to s3://sagemaker-us-east-1-152804913371/mme-cv-benchmark/trt-bert-base-uncased/bert-base-uncased-v36.tar.gz\n",
      "loaded 37 models with memory utilzation of 79.34%\n",
      "copy: s3://sagemaker-us-east-1-152804913371/mme-cv-benchmark/bert-base-uncased.tar.gz to s3://sagemaker-us-east-1-152804913371/mme-cv-benchmark/trt-bert-base-uncased/bert-base-uncased-v37.tar.gz\n",
      "loaded 38 models with memory utilzation of 81.40%\n",
      "copy: s3://sagemaker-us-east-1-152804913371/mme-cv-benchmark/bert-base-uncased.tar.gz to s3://sagemaker-us-east-1-152804913371/mme-cv-benchmark/trt-bert-base-uncased/bert-base-uncased-v38.tar.gz\n",
      "loaded 39 models with memory utilzation of 83.48%\n",
      "copy: s3://sagemaker-us-east-1-152804913371/mme-cv-benchmark/bert-base-uncased.tar.gz to s3://sagemaker-us-east-1-152804913371/mme-cv-benchmark/trt-bert-base-uncased/bert-base-uncased-v39.tar.gz\n",
      "loaded 40 models with memory utilzation of 85.53%\n",
      "copy: s3://sagemaker-us-east-1-152804913371/mme-cv-benchmark/bert-base-uncased.tar.gz to s3://sagemaker-us-east-1-152804913371/mme-cv-benchmark/trt-bert-base-uncased/bert-base-uncased-v40.tar.gz\n",
      "loaded 41 models with memory utilzation of 87.60%\n",
      "copy: s3://sagemaker-us-east-1-152804913371/mme-cv-benchmark/bert-base-uncased.tar.gz to s3://sagemaker-us-east-1-152804913371/mme-cv-benchmark/trt-bert-base-uncased/bert-base-uncased-v41.tar.gz\n",
      "This instance is able to load 42 models with 89.65% of gpu memory consumed\n"
     ]
    }
   ],
   "source": [
    "models_loaded = 0\n",
    "memory_utilization_threshold = 0.9\n",
    "memory_utilization_history = []\n",
    "while True:\n",
    "    # make a copy of the model\n",
    "    !aws s3 cp {initial_trt_model_path} {trt_mme_path}{model_name}-v{models_loaded}.tar.gz\n",
    "    \n",
    "    # make a inference request to load model into memory\n",
    "    response = runtime_sm_client.invoke_endpoint(\n",
    "            EndpointName=endpoint_name,\n",
    "            ContentType=\"application/octet-stream\",\n",
    "            Body=json.dumps(payload),\n",
    "            TargetModel=f\"{model_name}-v{models_loaded}.tar.gz\", \n",
    "        )\n",
    "    \n",
    "    models_loaded+=1\n",
    "    \n",
    "    #get instance metrics\n",
    "    instance_metrics = get_instance_utilization(runtime_sm_client, endpoint_name)\n",
    "    model_avg_mem_consumption = instance_metrics[\"gpu_used_memory\"] / models_loaded\n",
    "    \n",
    "    # get an estimate of the gpu memory util once next model is loaded\n",
    "    next_gpu_mem_util = (instance_metrics[\"gpu_used_memory\"] + model_avg_mem_consumption) / instance_metrics[\"gpu_total_memory\"]\n",
    "    \n",
    "    memory_utilization = instance_metrics[\"gpu_memory_utilization\"]\n",
    "    memory_utilization_history.append(memory_utilization)\n",
    "    \n",
    "    # terminate loop if the memory consumption is exceeded once next model is loaded\n",
    "    if next_gpu_mem_util >= memory_utilization_threshold:\n",
    "        print(f\"This instance is able to load {models_loaded} models with {memory_utilization:.2%} of gpu memory consumed\")\n",
    "        break\n",
    "        \n",
    "    print(f\"loaded {models_loaded} models with memory utilzation of {memory_utilization:.2%}\")"
   ]
  },
  {
   "cell_type": "markdown",
   "id": "e1769104",
   "metadata": {},
   "source": [
    "## Benchmark TensorRT Model using Locust"
   ]
  },
  {
   "cell_type": "code",
   "execution_count": 181,
   "id": "1e9a6579",
   "metadata": {},
   "outputs": [],
   "source": [
    "locust_result_path = Path(\"results\") / model_name\n",
    "locust_result_path.mkdir(parents=True,exist_ok=True)"
   ]
  },
  {
   "cell_type": "code",
   "execution_count": null,
   "id": "e8da0466",
   "metadata": {},
   "outputs": [
    {
     "name": "stdout",
     "output_type": "stream",
     "text": [
      "running load test\n",
      "{'Type': 'InvokeEndpoint', 'Name': 'bert-base-uncased', 'Request Count': '345', 'Failure Count': '345', 'Median Response Time': '170.0', 'Average Response Time': '191.24967531786987', 'Min Response Time': '140.93310083262622', 'Max Response Time': '459.0897171292454', 'Average Content Size': '0.0', 'Requests/s': '19.624958320007355', 'Failures/s': '19.624958320007355', '50%': '170', '66%': '190', '75%': '240', '80%': '250', '90%': '270', '95%': '280', '98%': '310', '99%': '340', '99.9%': '460', '99.99%': '460', '100%': '460'}\n",
      "{'Type': 'InvokeEndpoint', 'Name': 'bert-base-uncased', 'Request Count': '1089', 'Failure Count': '1089', 'Median Response Time': '180.0', 'Average Response Time': '225.28592072990855', 'Min Response Time': '139.93451092392206', 'Max Response Time': '1165.053587872535', 'Average Content Size': '0.0', 'Requests/s': '22.892125729653774', 'Failures/s': '22.892125729653774', '50%': '180', '66%': '240', '75%': '260', '80%': '280', '90%': '360', '95%': '430', '98%': '500', '99%': '560', '99.9%': '710', '99.99%': '1200', '100%': '1200'}\n",
      "{'Type': 'InvokeEndpoint', 'Name': 'bert-base-uncased', 'Request Count': '2074', 'Failure Count': '2074', 'Median Response Time': '250.0', 'Average Response Time': '315.73459777966224', 'Min Response Time': '139.93451092392206', 'Max Response Time': '2352.5028319563717', 'Average Content Size': '0.0', 'Requests/s': '27.29576545940782', 'Failures/s': '27.29576545940782', '50%': '250', '66%': '330', '75%': '390', '80%': '430', '90%': '590', '95%': '740', '98%': '910', '99%': '1000', '99.9%': '1200', '99.99%': '2400', '100%': '2400'}\n",
      "{'Type': 'InvokeEndpoint', 'Name': 'bert-base-uncased', 'Request Count': '3250', 'Failure Count': '3250', 'Median Response Time': '340.0', 'Average Response Time': '449.75512576074556', 'Min Response Time': '139.93451092392206', 'Max Response Time': '2971.4825560804456', 'Average Content Size': '0.0', 'Requests/s': '30.15825723964962', 'Failures/s': '30.15825723964962', '50%': '340', '66%': '490', '75%': '600', '80%': '690', '90%': '910', '95%': '1100', '98%': '1400', '99%': '1500', '99.9%': '1900', '99.99%': '3000', '100%': '3000'}\n",
      "{'Type': 'InvokeEndpoint', 'Name': 'bert-base-uncased', 'Request Count': '4379', 'Failure Count': '4379', 'Median Response Time': '440.0', 'Average Response Time': '590.5535370110402', 'Min Response Time': '139.93451092392206', 'Max Response Time': '3712.4184030108154', 'Average Content Size': '0.0', 'Requests/s': '32.05089546565161', 'Failures/s': '32.05089546565161', '50%': '440', '66%': '660', '75%': '830', '80%': '930', '90%': '1200', '95%': '1500', '98%': '1800', '99%': '2100', '99.9%': '2800', '99.99%': '3700', '100%': '3700'}\n",
      "{'Type': 'InvokeEndpoint', 'Name': 'bert-base-uncased', 'Request Count': '5572', 'Failure Count': '5572', 'Median Response Time': '560.0', 'Average Response Time': '733.7481091406122', 'Min Response Time': '139.93451092392206', 'Max Response Time': '3712.4184030108154', 'Average Content Size': '0.0', 'Requests/s': '33.23179799973135', 'Failures/s': '33.23179799973135', '50%': '560', '66%': '840', '75%': '1000', '80%': '1200', '90%': '1600', '95%': '1900', '98%': '2300', '99%': '2500', '99.9%': '3100', '99.99%': '3700', '100%': '3700'}\n",
      "{'Type': 'InvokeEndpoint', 'Name': 'bert-base-uncased', 'Request Count': '6657', 'Failure Count': '6657', 'Median Response Time': '670.0', 'Average Response Time': '879.2766617543967', 'Min Response Time': '139.93451092392206', 'Max Response Time': '6247.602818068117', 'Average Content Size': '0.0', 'Requests/s': '34.4001485258478', 'Failures/s': '34.4001485258478', '50%': '670', '66%': '1000', '75%': '1300', '80%': '1400', '90%': '1900', '95%': '2300', '98%': '2700', '99%': '3100', '99.9%': '4400', '99.99%': '6200', '100%': '6200'}\n",
      "{'Type': 'InvokeEndpoint', 'Name': 'bert-base-uncased', 'Request Count': '7891', 'Failure Count': '7891', 'Median Response Time': '810.0', 'Average Response Time': '1043.316969464979', 'Min Response Time': '139.93451092392206', 'Max Response Time': '9692.418752936646', 'Average Content Size': '0.0', 'Requests/s': '35.015534856558155', 'Failures/s': '35.015534856558155', '50%': '810', '66%': '1200', '75%': '1500', '80%': '1700', '90%': '2200', '95%': '2700', '98%': '3200', '99%': '3600', '99.9%': '5400', '99.99%': '9700', '100%': '9700'}\n",
      "{'Type': 'InvokeEndpoint', 'Name': 'bert-base-uncased', 'Request Count': '9079', 'Failure Count': '9079', 'Median Response Time': '940.0', 'Average Response Time': '1200.7550246541343', 'Min Response Time': '139.93451092392206', 'Max Response Time': '9692.418752936646', 'Average Content Size': '0.0', 'Requests/s': '35.286682782902155', 'Failures/s': '35.286682782902155', '50%': '940', '66%': '1400', '75%': '1700', '80%': '2000', '90%': '2600', '95%': '3100', '98%': '3700', '99%': '4000', '99.9%': '6200', '99.99%': '9700', '100%': '9700'}\n"
     ]
    }
   ],
   "source": [
    "%%time\n",
    "output_path = (locust_result_path / f\"{instance_type}*trt*{models_loaded}\") # capture the instance type, engine, and models loaded in file name\n",
    "run_load_test(endpoint_name, use_case, model_name, models_loaded, output_path, print_stdout=True, n_procs=6, sample_payload=json.dumps(payload))"
   ]
  },
  {
   "cell_type": "markdown",
   "id": "bc00e4f9",
   "metadata": {},
   "source": [
    "## Analyze Results"
   ]
  },
  {
   "cell_type": "code",
   "execution_count": null,
   "id": "86f053fe",
   "metadata": {},
   "outputs": [],
   "source": [
    "load_test_summary = get_summary_results(locust_result_path)"
   ]
  },
  {
   "cell_type": "code",
   "execution_count": null,
   "id": "98e48c41",
   "metadata": {},
   "outputs": [],
   "source": [
    "generate_summary_plots(load_test_summary)"
   ]
  },
  {
   "cell_type": "code",
   "execution_count": null,
   "id": "257b8533",
   "metadata": {},
   "outputs": [],
   "source": [
    "summary_chart = generate_metrics_summary(load_test_summary)"
   ]
  },
  {
   "cell_type": "markdown",
   "id": "3d000d4a",
   "metadata": {},
   "source": [
    "## Clean Up TensorRT Endpoint"
   ]
  },
  {
   "cell_type": "code",
   "execution_count": null,
   "id": "2b561919",
   "metadata": {},
   "outputs": [],
   "source": [
    "delete_endpoint(sm_client, sm_model_name, endpoint_config_name, endpoint_name)\n",
    "! aws s3 rm --recursive {trt_mme_path}"
   ]
  }
 ],
 "metadata": {
  "instance_type": "ml.c5.2xlarge",
  "kernelspec": {
   "display_name": "Python 3 (PyTorch 1.12 Python 3.8 CPU Optimized)",
   "language": "python",
   "name": "python3__SAGEMAKER_INTERNAL__arn:aws:sagemaker:us-east-1:081325390199:image/pytorch-1.12-cpu-py38"
  },
  "language_info": {
   "codemirror_mode": {
    "name": "ipython",
    "version": 3
   },
   "file_extension": ".py",
   "mimetype": "text/x-python",
   "name": "python",
   "nbconvert_exporter": "python",
   "pygments_lexer": "ipython3",
   "version": "3.8.13"
  }
 },
 "nbformat": 4,
 "nbformat_minor": 5
}
